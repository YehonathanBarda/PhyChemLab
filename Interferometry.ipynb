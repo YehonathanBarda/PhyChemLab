{
 "cells": [
  {
   "cell_type": "markdown",
   "metadata": {},
   "source": [
    "# General"
   ]
  },
  {
   "cell_type": "code",
   "execution_count": null,
   "metadata": {},
   "outputs": [],
   "source": [
    "import numpy as np\n",
    "import matplotlib.pyplot as plt\n",
    "from scipy.signal import find_peaks\n",
    "import pandas as pd\n",
    "from scipy.constants import c\n",
    "import os\n",
    "print('c =', c) # speed of light in m/s\n",
    "data_folder = r'c:\\Users\\yaniv\\Yehonathan TAU\\PhyChemLab\\interferometry_data'\n",
    "os.chdir(data_folder)\n",
    "print('Current working directory:', os.getcwd())"
   ]
  },
  {
   "cell_type": "markdown",
   "metadata": {},
   "source": [
    "# Functions"
   ]
  },
  {
   "cell_type": "code",
   "execution_count": null,
   "metadata": {},
   "outputs": [],
   "source": [
    "def load_data(file_path):\n",
    "    data = pd.read_csv(file_path, sep='\\t', names = ['wavelength nm', 'intensity'])\n",
    "    data['frequency THz'] = c / data['wavelength nm'] * 1e-3 # convert to THz\n",
    "    return data\n",
    "\n",
    "def plot_comb(data, peaks = None, type = 'frec', title = None):\n",
    "    if type == 'frec':\n",
    "        plt.plot(data['frequency THz'], data['intensity'])\n",
    "        if peaks is not None:\n",
    "            plt.plot(data['frequency THz'][peaks], data['intensity'][peaks], 'x')\n",
    "        plt.xlabel('Frequency [THz]')\n",
    "        plt.ylabel('Intensity')\n",
    "        if title is not None:\n",
    "            plt.title(title)\n",
    "        else:\n",
    "            plt.title('Comb Spectrum | Frequency', fontsize=16)\n",
    "    elif type == 'wavel':\n",
    "        plt.plot(data['wavelength nm'], data['intensity'])\n",
    "        if peaks is not None:\n",
    "            plt.plot(data['wavelength nm'][peaks], data['intensity'][peaks], 'x')\n",
    "        plt.xlabel('Wavelength [nm]')\n",
    "        plt.ylabel('Intensity')\n",
    "        if title is not None:\n",
    "            plt.title(title)\n",
    "        else:\n",
    "            plt.title('Comb Spectrum | Wavelength')\n",
    "    elif type == 'both':\n",
    "        fig, axs = plt.subplots(2, 1, figsize=(10, 8))\n",
    "        axs[0].plot(data['frequency THz'], data['intensity'])\n",
    "        if peaks is not None:\n",
    "            axs[0].plot(data['frequency THz'][peaks], data['intensity'][peaks], 'x')\n",
    "        axs[0].set_xlabel('Frequency (THz)')\n",
    "        axs[0].set_ylabel('Intensity')\n",
    "        axs[0].set_title('Comb Spectrum | Frequency', fontsize=16)\n",
    "\n",
    "        axs[1].plot(data['wavelength nm'], data['intensity'])\n",
    "        if peaks is not None:\n",
    "            axs[1].plot(data['wavelength nm'][peaks], data['intensity'][peaks], 'x')\n",
    "        axs[1].set_xlabel('Wavelength (nm)')\n",
    "        axs[1].set_ylabel('Intensity')\n",
    "        axs[1].set_title('Comb Spectrum | Wavelength', fontsize=16)\n",
    "        if title is not None:\n",
    "            fig.suptitle(title, fontsize=20)\n",
    "        else:\n",
    "            fig.suptitle('Comb Spectrum', fontsize=20)\n",
    "\n",
    "        plt.tight_layout()\n",
    "    else:\n",
    "        print('Invalid plot type. Use \"frec\" or \"wavel\"')\n",
    "    plt.show()\n",
    "\n",
    "def find_peaks_comb(data, threshold = 0.01,width = None, distance = 1):\n",
    "    peaks, _ = find_peaks(data['intensity'], height = threshold, distance = distance, width = width)\n",
    "    return peaks\n",
    "\n",
    "def culc_frec_spacing(data, peaks, plot = False, toprint = False):\n",
    "    frec_spacing = - np.diff(data['frequency THz'][peaks])\n",
    "    frec_spacing_mean = np.mean(frec_spacing) # THz\n",
    "    frec_spacing_std = np.std(frec_spacing) # THz\n",
    "\n",
    "    delta_x = c / frec_spacing_mean * 1e-6 # convert to um\n",
    "    delta_x_err = c / frec_spacing_std * 1e-6 # convert to um\n",
    "    \n",
    "    if toprint:\n",
    "        print('Mean frequency spacing: {:.3f} ± {:.3f} THz'.format(frec_spacing_mean, frec_spacing_std))\n",
    "        print('Δx = {:.3f} ± {:.3f} μm\\n'.format(delta_x, delta_x_err))\n",
    "\n",
    "    if plot:\n",
    "        plt.hist(frec_spacing, bins = 20)\n",
    "        plt.xlabel('Frequency Spacing [THz]')\n",
    "        plt.ylabel('Counts')\n",
    "        plt.title('Frequency Spacing Histogram')\n",
    "        plt.show()\n",
    "\n",
    "    return delta_x, delta_x_err\n",
    "\n",
    "def culc_file(file_path, plot1 = False, plot2 = False, threshold = 0.01,width = None, distance = 1):\n",
    "    data = load_data(file_path)\n",
    "    peaks = find_peaks_comb(data, threshold = threshold, width = width, distance = distance)\n",
    "    if plot1:\n",
    "        if plot1 == 'frec':\n",
    "            text_type = 'Frequency'\n",
    "        elif plot1 == 'wavel':\n",
    "            text_type = 'Wavelength'\n",
    "        else:\n",
    "            text_type = 'Both'\n",
    "        title = 'Comb Spectrum | ' + text_type + ' | ' + os.path.splitext(os.path.basename(file_path))[0]\n",
    "        plot_comb(data, peaks, type = plot1, title = title)\n",
    "    delta_x, delta_x_err = culc_frec_spacing(data, peaks, plot2, toprint= bool(plot1))\n",
    "    return delta_x, delta_x_err\n",
    "\n",
    "def extract_reflective_index(mesure_file, reference_file, d, plot = False): # d in um!!!\n",
    "\n",
    "    delta_x_ref, delta_x_err_ref = culc_file(reference_file, plot1 = plot) # um\n",
    "    delta_x_mes, delta_x_err_mes = culc_file(mesure_file, plot1 = plot) # um\n",
    "\n",
    "    l = delta_x_mes - delta_x_ref # um\n",
    "    l_err = np.sqrt(delta_x_err_ref**2 + delta_x_err_mes**2) # um\n",
    "\n",
    "    delta_n = l / (2* d ) # refractive index difference\n",
    "    delta_n_err = l_err / (2 * d) # refractive index difference error\n",
    "\n",
    "    n = 1 + delta_n # refractive index\n",
    "    n_err = delta_n_err # refractive index error\n",
    "    \n",
    "    if plot:\n",
    "        print('l = {:.3f} ± {:.3f} μm'.format(l, l_err))\n",
    "        print('Δn = {:.3f} ± {:.3f}'.format(delta_n, delta_n_err))\n",
    "        print('n = {:.3f} ± {:.3f}'.format(n, n_err))\n",
    "\n",
    "    return n, n_err"
   ]
  },
  {
   "cell_type": "markdown",
   "metadata": {},
   "source": [
    "# Week 2"
   ]
  },
  {
   "cell_type": "markdown",
   "metadata": {},
   "source": [
    "## 2.6 Quantify the Optical Path Difference of the Arms"
   ]
  },
  {
   "cell_type": "code",
   "execution_count": null,
   "metadata": {},
   "outputs": [],
   "source": [
    "file1 = r\"434DH.tab\"\n",
    "data1 = load_data(file1)\n",
    "peaks = find_peaks_comb(data1)\n",
    "plot_comb(data1, peaks, type = 'frec')\n",
    "delta_x1, delta_x_err1 = culc_frec_spacing(data1, peaks, plot = False, toprint = True)"
   ]
  },
  {
   "cell_type": "markdown",
   "metadata": {},
   "source": [
    "## 2.7 Quantify the Interferometer Translation"
   ]
  },
  {
   "cell_type": "code",
   "execution_count": null,
   "metadata": {},
   "outputs": [],
   "source": [
    "file2 = '434DH.tab'\n",
    "delta_x2, delta_x_err2 = culc_file(file2, plot1 = 'frec')\n",
    "file3 = '434DH.tab'\n",
    "delta_x3, delta_x_err3 = culc_file(file3, plot1 = 'frec')\n",
    "\n",
    "l2 = delta_x2 - delta_x1\n",
    "l3 = delta_x3 - delta_x1\n",
    "l2_err = np.sqrt(delta_x_err1**2 + delta_x_err2**2)\n",
    "l3_err = np.sqrt(delta_x_err1**2 + delta_x_err3**2)\n",
    "\n",
    "print('l2 = {:.3f} ± {:.3f} μm'.format(l2, l2_err))\n",
    "print('l3 = {:.3f} ± {:.3f} μm'.format(l3, l3_err))"
   ]
  },
  {
   "cell_type": "markdown",
   "metadata": {},
   "source": [
    "## 2.8 Intensity Modulation of the Arms"
   ]
  },
  {
   "cell_type": "markdown",
   "metadata": {},
   "source": [
    "## 2.9 Demonstrate the Law of Energy Conservation\n"
   ]
  },
  {
   "cell_type": "code",
   "execution_count": null,
   "metadata": {},
   "outputs": [],
   "source": [
    "file_energy1 = '434DH.tab'\n",
    "file_energy2 = '434DH.tab'\n",
    "data_energy1 = load_data(file_energy1)\n",
    "data_energy2 = load_data(file_energy2)\n",
    "\n",
    "plt.plot(data_energy1['wavelength nm'], data_energy1['intensity'], label = 'interference pattern #1')\n",
    "plt.plot(data_energy2['wavelength nm'], data_energy2['intensity'], label = 'interference pattern #2')\n",
    "plt.xlabel('Wavelength [nm]')\n",
    "plt.ylabel('Intensity')\n",
    "plt.title('Interference Patterns - Energy conservation')\n",
    "plt.legend()\n",
    "plt.show()"
   ]
  },
  {
   "cell_type": "markdown",
   "metadata": {},
   "source": [
    "## 2.10 Measure the Index of Refraction of a Solid Sample"
   ]
  },
  {
   "cell_type": "code",
   "execution_count": null,
   "metadata": {},
   "outputs": [],
   "source": [
    "reference_file = '434DH.tab'\n",
    "mesure_file = '434DH.tab'\n",
    "d = 180 # sample thickness in um \n",
    "extract_reflective_index(mesure_file, reference_file, d, plot = 'frec')"
   ]
  },
  {
   "cell_type": "markdown",
   "metadata": {},
   "source": [
    "## 2.11 Measure the Index of Refraction Dependence on the Concentration of a Solution"
   ]
  },
  {
   "cell_type": "code",
   "execution_count": null,
   "metadata": {},
   "outputs": [],
   "source": [
    "concentration_file = 'file_name.xlsx'\n",
    "concentration_data = pd.read_excel(concentration_file)\n",
    "data_folder = 'data_folder_path'\n",
    "reference_file = 'reference_file_name.tab'\n",
    "d = 1e6 # cuvettes thickness in um\n",
    "\n",
    "n_list = []\n",
    "n_err_list = []\n",
    "\n",
    "for file in concentration_data['file_name']:\n",
    "    file_path = os.path.join(data_folder, file)\n",
    "    n, n_err = extract_reflective_index(file_path, reference_file, d, plot = False)\n",
    "    n_list.append(n)\n",
    "    n_err_list.append(n_err)\n",
    "\n",
    "concentration_data['n'] = n_list\n",
    "concentration_data['n_err'] = n_err_list\n",
    "\n",
    "# plt.plot(concentration_data['concentration'], concentration_data['n'], '.')\n",
    "plt.errorbar(concentration_data['concentration'], concentration_data['n'], yerr=concentration_data['n_err'], fmt='.', capsize=5)\n",
    "plt.xlabel('Concentration [M]')\n",
    "plt.ylabel('Refractive Index')\n",
    "plt.title('Refractive Index vs. Concentration')\n",
    "plt.show()\n"
   ]
  }
 ],
 "metadata": {
  "kernelspec": {
   "display_name": "Python 3",
   "language": "python",
   "name": "python3"
  },
  "language_info": {
   "codemirror_mode": {
    "name": "ipython",
    "version": 3
   },
   "file_extension": ".py",
   "mimetype": "text/x-python",
   "name": "python",
   "nbconvert_exporter": "python",
   "pygments_lexer": "ipython3",
   "version": "3.11.0"
  }
 },
 "nbformat": 4,
 "nbformat_minor": 2
}
