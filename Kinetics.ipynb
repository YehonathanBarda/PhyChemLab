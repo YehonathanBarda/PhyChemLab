{
 "cells": [
  {
   "cell_type": "markdown",
   "metadata": {
    "vscode": {
     "languageId": "plaintext"
    }
   },
   "source": [
    "# General"
   ]
  },
  {
   "cell_type": "code",
   "execution_count": 48,
   "metadata": {},
   "outputs": [],
   "source": [
    "\n",
    "# imports\n",
    "\n",
    "import os\n",
    "\n",
    "import pandas as pd\n",
    "\n",
    "import numpy as np\n",
    "import matplotlib.pyplot as plt\n",
    "\n",
    "from scipy.optimize import curve_fit\n"
   ]
  },
  {
   "cell_type": "code",
   "execution_count": null,
   "metadata": {},
   "outputs": [],
   "source": [
    "def get_data(file_path, cut = [200,800]):\n",
    "    '''\n",
    "    take raw data (.dat) and transform it to pd data frame \n",
    "    '''\n",
    "    df = pd.read_csv(file_path, delimiter = '\\t', names = ['Wavelength', 'Intensity'], header = 0 )\n",
    "    return df[(cut[0] < df['Wavelength']) & (df['Wavelength'] < cut[1])]\n",
    "\n",
    "def plot_glow(data, y = 'Intensity', title = \"Graph\", to_show = True, label = '', error = False):\n",
    "    '''\n",
    "    plot data and fit \n",
    "    '''\n",
    "    # plot data points\n",
    "    # data = data.groupby(['Temperature (K)'], as_index=False).mean()\n",
    "    x_data, y_data = data['Wavelength'], data[y]  # call data\n",
    "    if error:\n",
    "        x_err, y_err = data['Wavelength err'], data[y + ' err']\n",
    "        plt.errorbar(x_data, y_data,x_err,y_err, ',', label = label)\n",
    "    else:\n",
    "        plt.plot(x_data, y_data, '.', label = label)\n",
    "    \n",
    "    plt.legend(loc='best')\n",
    "    plt.grid()\n",
    "    plt.xlabel('Wave length [nm]')\n",
    "    # plt.ylabel(r'$\\rho$ ' +' [V]')\n",
    "    plt.ylabel(y +' [V]')\n",
    "\n",
    "    plt.title(title)\n",
    "    plt.show(to_show)\n",
    "\n",
    "def culc_absorbance(I, I0,A = None):\n",
    "    '''\n",
    "    culculate absorbance dataframe from intensity\n",
    "    '''\n",
    "    A = pd.DataFrame()\n",
    "    A['Absorbance'] = -np.log(I['Intensity']/I0['Intensity'])\n",
    "    A['Wavelength'] = I['Wavelength']\n",
    "\n",
    "    return A\n",
    "\n",
    "def get_concentration(file_name):\n",
    "    '''\n",
    "    get concentration from file name\n",
    "    '''\n",
    "    return float(file_name.split('_')[0]) # file name is like 0.1_M.dat\n",
    "\n",
    "def culc_molar_absorption_coefficient(slope, error, l = 1):\n",
    "    '''\n",
    "    culculate molar absorption coefficient from absorbance and concentration\n",
    "    '''\n",
    "    return slope / l, error / l\n",
    "\n",
    "def linear_func(x,a0,a1): # define the modle fucntion - linear\n",
    "    return a1 * x + a0\n",
    "\n",
    "def linear_fit(x,y):\n",
    "    '''\n",
    "    fit linear function\n",
    "    '''\n",
    "    popt, pcov = curve_fit(linear_func, x, y)\n",
    "    return popt, np.sqrt(np.diag(pcov))\n",
    "\n",
    "\n"
   ]
  },
  {
   "cell_type": "markdown",
   "metadata": {},
   "source": [
    "# Part 1:  Beer-Lambert's Law Validation"
   ]
  },
  {
   "cell_type": "code",
   "execution_count": null,
   "metadata": {},
   "outputs": [],
   "source": [
    "# define folder\n",
    "mes_folder_1 = r\"C:\\Users\\yaniv\\OneDrive\\Desktop\\yehonathan\\לימודים\\אוניברסיטה\\2024-2025\\מעבדה בכימיה פיזיקלית 2\\קינטיקה כימית\\part 1\"\n",
    "I0_1 = get_data(mes_folder_1 + r\"\\I0.dat\")\n",
    "\n",
    "# get absobance data frame\n",
    "Absorbabce_all = pd.DataFrame()\n",
    "Absorbabce_all['Wavelength'] = I0_1['Wavelength']\n",
    "for file in os.listdir(mes_folder_1):\n",
    "    if file.endswith(\".dat\") and file != 'I0.dat':\n",
    "        data = get_data(mes_folder_1 + '\\\\' + file)\n",
    "        C = get_concentration(file)\n",
    "        Absorbabce_all[str(C) + '_M'] = culc_absorbance(data, I0)['Absorbance']\n",
    "\n",
    "display(Absorbabce_all)"
   ]
  },
  {
   "cell_type": "code",
   "execution_count": null,
   "metadata": {},
   "outputs": [],
   "source": [
    "# Create a dictionary to hold the data for each wavelength\n",
    "data_dict = {'Concentration': [get_concentration(file) for file in os.listdir(mes_folder_1) if file.endswith(\".dat\") and file != 'I0.dat']}\n",
    "for wavelength in Absorbabce_all['Wavelength']:\n",
    "    data_dict[str(wavelength)] = Absorbabce_all[Absorbabce_all['Wavelength'] == wavelength].drop(columns='Wavelength').values[0]\n",
    "\n",
    "# Use pd.concat to join all columns at once\n",
    "Absorbabce_all2 = pd.concat([pd.DataFrame(data_dict)], axis=1)\n",
    "\n",
    "display(Absorbabce_all2)"
   ]
  },
  {
   "cell_type": "code",
   "execution_count": null,
   "metadata": {},
   "outputs": [],
   "source": [
    "wavelengths_list = [350.374, 352.267]\n",
    "l = 1 # cm\n",
    "molar_absorption = {'wavelength [nm]': wavelengths_list, 'molar_absorption': [], 'molar_absorption_err': []}\n",
    "for wavelength in wavelengths_list:\n",
    "    # Fit a linear function to the data\n",
    "    fit = linear_fit(Absorbabce_all2['Concentration'], Absorbabce_all2[str(wavelength)])\n",
    "    plt.plot(Absorbabce_all2['Concentration'], Absorbabce_all2[str(wavelength)], '.', label=str(wavelength) + ' nm')\n",
    "    plt.plot(Absorbabce_all2['Concentration'], linear_func(Absorbabce_all2['Concentration'], *fit[0]), label=str(wavelength) + ' nm fit')\n",
    "\n",
    "    # Calculate molar absorption coefficient\n",
    "    epsilon = culc_molar_absorption_coefficient(fit[0][1], fit[1][1], l)\n",
    "    molar_absorption['molar_absorption'].append(epsilon[0])\n",
    "    molar_absorption['molar_absorption_err'].append(epsilon[1]) \n",
    "\n",
    "plt.legend()\n",
    "plt.xlabel('Concentration [M]')\n",
    "plt.ylabel('Absorbance')\n",
    "plt.title('Absorbance Vs. Concentration', fontsize=20)\n",
    "plt.show()\n",
    "\n",
    "molar_absorption_df = pd.DataFrame(molar_absorption)\n",
    "display(molar_absorption_df)"
   ]
  },
  {
   "cell_type": "markdown",
   "metadata": {},
   "source": [
    "# Part 2: Determination of Optimal Acid:Acetone:Iodide Ratio\n"
   ]
  },
  {
   "cell_type": "markdown",
   "metadata": {},
   "source": [
    "# Part 3: Finding the Reaction Order for Each Component"
   ]
  },
  {
   "cell_type": "code",
   "execution_count": null,
   "metadata": {},
   "outputs": [],
   "source": [
    "# define folder\n",
    "mes_folder_3 = r\"C:\\Users\\yaniv\\OneDrive\\Desktop\\yehonathan\\לימודים\\אוניברסיטה\\2024-2025\\מעבדה בכימיה פיזיקלית 2\\קינטיקה כימית\\part 3\"\n",
    "I0_3 = get_data(mes_folder_3 + r\"\\I0.dat\")\n",
    "\n",
    "# get absobance data frame\n",
    "Absorbabce_all = pd.DataFrame()\n",
    "Absorbabce_all['Wavelength'] = I0_3['Wavelength']\n",
    "for file in os.listdir(mes_folder_3):\n",
    "    if file.endswith(\".dat\") and file != 'I0.dat':\n",
    "        data = get_data(mes_folder_3 + '\\\\' + file)\n",
    "        C = get_concentration(file)\n",
    "        Absorbabce_all[str(C) + '_M'] = culc_absorbance(data, I0_3)['Absorbance']\n",
    "\n",
    "display(Absorbabce_all)"
   ]
  }
 ],
 "metadata": {
  "kernelspec": {
   "display_name": "Python 3",
   "language": "python",
   "name": "python3"
  },
  "language_info": {
   "codemirror_mode": {
    "name": "ipython",
    "version": 3
   },
   "file_extension": ".py",
   "mimetype": "text/x-python",
   "name": "python",
   "nbconvert_exporter": "python",
   "pygments_lexer": "ipython3",
   "version": "3.11.0"
  }
 },
 "nbformat": 4,
 "nbformat_minor": 2
}
